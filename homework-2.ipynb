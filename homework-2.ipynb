{
 "cells": [
  {
   "cell_type": "markdown",
   "metadata": {},
   "source": [
    "# Homework 2: What do the SARS-Cov-2 genes do?\n",
    "\n",
    "In the first homework, we wrote an algorithm to retrieve ORFs from the SARS-CoV-2 genome. Some retrieved ORFs may correspond to the actual genes, some were there by chance, and some because the start codon also encodes for methionine, so the retrieved ORF was a (short) part of the more extended coding sequence. We used protein hydrophobicity to find potential transmembrane proteins. But what about other types of proteins? How can we tell which ORFs correspond to the actual genes?\n",
    "\n",
    "We will answer the question above in the bioinformatics way and lean to what we know about evolution. If two species are morphologically different, their genetic material must also differ substantially. Right? Not exactly. Evolution conserved many genes crucial for survival. The degree of conservation is surprising. For example, while we would expect to share many genes with the chimpanzee, our closest relative, we would expect almost no similarity in our genetic material with bananas. The numbers tell us otherwise. While sharing 96% of our genes with the chimpanzee, we also share 60% of our genes with bananas! These similar genes in humans and bananas encode proteins that carry similar functions.\n",
    "\n",
    "Two genes with similar sequences may perform similar functions. Genes like these are called homologous genes. Or, more precisely, in our case, these would be orthologous genes (see the figure below). A pair of orthologous genes are genes from two related species originating from a common ancestor (e.g., humans and chimpanzees). Due to the evolution, the two nucleotide or protein sequences might differ slightly but not overwhelmingly.\n",
    "\n",
    "<div>\n",
    "<img src=\"https://upload.wikimedia.org/wikipedia/commons/thumb/d/d8/Ortholog_paralog_analog_%28homologs%29.svg/1200px-Ortholog_paralog_analog_%28homologs%29.svg.png\" width=\"500\">\n",
    "</div>\n",
    "\n",
    "*Author: Thomas Shafee, Licence: CC BY 4.0*\n",
    "\n",
    "The human-banana example demonstrates that these two organisms don't have to be that closely related! If we tried to determine the gene function in humans using bananas as a reference, we could infer the role of over 60% of the genes. However, using two closely related organisms would undoubtedly give us more robust results. We would be better off choosing the genome of a mouse or a chimpanzee as our reference.\n",
    "\n",
    "Scientists have studied hundreds of viruses and determined the functions of most of their genes. Using viruses similar in sequence to SARS-Cov-2, we can characterize the SARS-CoV-2 ORFs we found in our first homework and determine if they are the actual genes, and think about their function. Knowing what each gene does might help us find a way to fight the infection and potentially even find treatments for COVID-19. "
   ]
  },
  {
   "cell_type": "code",
   "execution_count": 2,
   "metadata": {},
   "outputs": [],
   "source": [
    "import os\n",
    "import numpy as np\n",
    "from Bio import *"
   ]
  },
  {
   "cell_type": "code",
   "execution_count": 3,
   "metadata": {},
   "outputs": [],
   "source": [
    "# In order to import from the python file without hassle, we add the current\n",
    "# directory to the python path\n",
    "import sys; sys.path.append(\".\")"
   ]
  },
  {
   "cell_type": "markdown",
   "metadata": {},
   "source": [
    "Let's let the nice folks at NCBI know who we are."
   ]
  },
  {
   "cell_type": "code",
   "execution_count": 3,
   "metadata": {},
   "outputs": [],
   "source": [
    "Entrez.email = \"<tz36793>@student.uni-lj.si\""
   ]
  },
  {
   "cell_type": "markdown",
   "metadata": {},
   "source": [
    "## Finding SARS-CoV-2's closest relatives\n",
    "\n",
    "In the first part of this assignment, we will analyze several coronavirus genomes to determine which are most similar to SARS-CoV-2. We will then use the viruses with the most similar sequence as reference genomes to assign functions to SARS-CoV-2 ORFs.\n",
    "\n",
    "To find the closest reference genomes, we will align the SARS-CoV-2 sequence to each candidate coronavirus genome. The virus genomes with the highest alignment scores will be our most closely-related viruses.\n",
    "\n",
    "Notice that computing an alignment between two sequences of length $N$ and $M$ requires the computation of a dynamic programming table with $N \\cdot M$ entries. The size of this matrix is sufficiently small for short sequences. But even the short genomes, like viral genomes, are generally too long for this approach. Instead of computing similarities from the entire genomes, we will only focus on the spike protein sequence. In general, we would prefer to align the whole nucleotide sequences, but for this assignment, considering only a spike protein will be sufficient. The spike protein is also one of the essential parts of any coronavirus, as it is the one that grants the virus entry to host cells. \n",
    "\n",
    "Considering spike proteins alone reduces the sequence lengths from ~30k (entire virus) to around 1.3k (spike protein). Nevertheless, do your best to write fast, efficient Python code. On the laptop of your teaching assistants, each `global_alignment` call on 1.3k long protein sequences takes around 30 to 60 seconds. We have to calculate 20 comparisons, which takes roughly 10 to 20 minutes."
   ]
  },
  {
   "cell_type": "code",
   "execution_count": 5,
   "metadata": {},
   "outputs": [],
   "source": [
    "accession_codes = {\n",
    "    # 6 known human coronaviruses\n",
    "    \"Human-SARS\": \"NC_004718\",\n",
    "    \"Human-MERS\": \"NC_019843\",\n",
    "    \"Human-HCoV-OC43\": \"NC_006213\",\n",
    "    \"Human-HCoV-229E\": \"NC_002645\",\n",
    "    \"Human-HCoV-NL63\": \"NC_005831\",\n",
    "    \"Human-HCoV-HKU1\": \"NC_006577\",\n",
    "    \n",
    "    # Bat\n",
    "    \"Bat-CoV MOP1\": \"EU420138\",\n",
    "    \"Bat-CoV HKU8\": \"NC_010438\",\n",
    "    \"Bat-CoV HKU2\": \"NC_009988\",\n",
    "    \"Bat-CoV HKU5\": \"NC_009020\",\n",
    "    \"Bat-CoV RaTG13\": \"MN996532\",\n",
    "    \"Bat-CoV-ENT\": \"NC_003045\",\n",
    "    \n",
    "    # Other animals\n",
    "    \"Hedgehog-CoV\": \"NC_039207\",\n",
    "    \"Pangolin-CoV MP789\": \"MT121216\",\n",
    "    \"Rabbit-CoV HKU14\": \"NC_017083\",\n",
    "    \"Duck-CoV isolate\": \"NC_048214\",\n",
    "    \"Feline infectious peritonitis virus\": \"NC_002306\",  # cat\n",
    "    \"Giraffe-CoV\": \"EF424623\",\n",
    "    \"Murine-CoV\": \"KF268338\",  # mouse\n",
    "    \"Equine-CoV Obihiro12-2\": \"LC061274\",  # horse\n",
    "}"
   ]
  },
  {
   "cell_type": "code",
   "execution_count": 10,
   "metadata": {},
   "outputs": [],
   "source": [
    "for virus in accession_codes.keys():\n",
    "    if not os.path.isfile(virus+'.gb'):\n",
    "        # Downloading...\n",
    "        net_handle = Entrez.efetch(\n",
    "            db=\"nucleotide\", id=accession_codes[virus], rettype=\"gbwithparts\", retmode=\"text\"\n",
    "        )\n",
    "        out_handle = open(virus+'.gb', \"w\")\n",
    "        out_handle.write(net_handle.read())\n",
    "        out_handle.close()\n",
    "        net_handle.close()"
   ]
  },
  {
   "cell_type": "markdown",
   "metadata": {},
   "source": [
    "Above is the list of coronaviruses and their corresponding NCBI accession codes that we will consider in this assignment. As in the first assignment, you can find the SARS-CoV-2 sequence in `data/SARS-CoV-2.fa`. This time, we will use the FASTA format to familiarize ourselves with the sequence file formats used in bioinformatics. You can easily read FASTA files using the `SeqIO.read` function from `biopython`.\n",
    "\n",
    "We will only use part of the sequence, and to assess similarity, consider the spike protein alone. In the first homework, we have already narrowed down our candidates for the transmembrane proteins, and we will assume that we know the location of the spike protein in SARS-CoV-2 (strand=1, start=21562, stop=25384). We need to find a part of the sequence that encodes for the spike protein in all coronaviruses listed above. We can inspect each sequence's features to locate the spike protein. For this assignment, we will iterate through gene coding regions (CDS) for each coronavirus and find the one that codes for the \"S\" gene. Some coronaviruses do not include such annotation but instead report on a \"spike protein\" in the `product` field."
   ]
  },
  {
   "cell_type": "code",
   "execution_count": 6,
   "metadata": {},
   "outputs": [],
   "source": [
    "# TODO:\n",
    "# 1. load coronavirus sequences\n",
    "# 2. extract spike protein regions\n",
    "# 3. convert retrived nucleotide sequences to sequence of amino-acid\n",
    "from Bio import SeqIO\n",
    "from Bio import SeqFeature\n",
    "S_seqs={}\n",
    "record = SeqIO.read('data/sars_cov_2.fa','fasta')\n",
    "S_seqs['SARS-CoV-2']=str(record.seq[21562:25381].translate())\n",
    "\n",
    "for virus in accession_codes.keys():\n",
    "    record = SeqIO.read('data/'+virus+'.gb', \"genbank\")\n",
    "    for feature in record.features:\n",
    "        if feature.type == 'CDS':\n",
    "            if 'gene' in feature.qualifiers:\n",
    "                if feature.qualifiers[\"gene\"]==['S']:\n",
    "                    S_seqs[virus]=str(feature.qualifiers['translation'])[2:-2]\n",
    "            elif 'product' in feature.qualifiers:\n",
    "                if feature.qualifiers['product']==['spike protein']:\n",
    "                    S_seqs[virus]=str(feature.qualifiers['translation'])[2:-2]"
   ]
  },
  {
   "cell_type": "markdown",
   "metadata": {},
   "source": [
    "## Problem 1: Global alignment\n",
    "\n",
    "**Task:** Use the template `global_alignment` function in the file `helper_functions.py` and implement the Needleman-Wunsch algorithm for global sequence alignment. Use a \"-\" character for indels. Score the alignments using the BLOSUM62 substitution matrix. You can find it in `biopython`.\n",
    "\n",
    "**[10 points]**"
   ]
  },
  {
   "cell_type": "code",
   "execution_count": 7,
   "metadata": {},
   "outputs": [],
   "source": [
    "from Bio.Align import substitution_matrices\n",
    "matrix = substitution_matrices.load(\"BLOSUM62\")\n",
    "def scoring_function(prot1,prot2):\n",
    "    for i in range(len(matrix)):\n",
    "        if matrix.alphabet[i]==prot1:\n",
    "            pos1=i\n",
    "        if matrix.alphabet[i]==prot2:\n",
    "            pos2=i\n",
    "    score=matrix[matrix.alphabet[pos1]][matrix.alphabet[pos2]]\n",
    "    return score\n"
   ]
  },
  {
   "cell_type": "code",
   "execution_count": 4,
   "metadata": {},
   "outputs": [
    {
     "data": {
      "text/plain": [
       "{'Human-SARS': 5246.0,\n",
       " 'Human-MERS': 1739.0,\n",
       " 'Human-HCoV-OC43': 1617.0,\n",
       " 'Human-HCoV-229E': 1101.0,\n",
       " 'Human-HCoV-NL63': 1158.0,\n",
       " 'Human-HCoV-HKU1': 1544.0,\n",
       " 'Bat-CoV MOP1': 1087.0,\n",
       " 'Bat-CoV HKU8': 1153.0,\n",
       " 'Bat-CoV HKU2': 1091.0,\n",
       " 'Bat-CoV HKU5': 1797.0,\n",
       " 'Bat-CoV RaTG13': 6539.0,\n",
       " 'Bat-CoV-ENT': 1629.0,\n",
       " 'Hedgehog-CoV': 1694.0,\n",
       " 'Pangolin-CoV MP789': 6085.0,\n",
       " 'Rabbit-CoV HKU14': 1653.0,\n",
       " 'Duck-CoV isolate': 1124.0,\n",
       " 'Feline infectious peritonitis virus': 1150.0,\n",
       " 'Giraffe-CoV': 1623.0,\n",
       " 'Murine-CoV': 1719.0,\n",
       " 'Equine-CoV Obihiro12-2': 1575.0}"
      ]
     },
     "execution_count": 4,
     "metadata": {},
     "output_type": "execute_result"
    }
   ],
   "source": [
    "from helper_functions import global_alignment\n",
    "scores={}\n",
    "for virus in accession_codes.keys():\n",
    "    alignment1,alignment2,score=global_alignment(S_seqs['SARS-CoV-2'],S_seqs[virus],scoring_function)\n",
    "    scores[virus]=score\n",
    "scores"
   ]
  },
  {
   "cell_type": "code",
   "execution_count": 5,
   "metadata": {},
   "outputs": [
    {
     "data": {
      "text/plain": [
       "6539.0"
      ]
     },
     "execution_count": 5,
     "metadata": {},
     "output_type": "execute_result"
    }
   ],
   "source": [
    "max(scores.values())"
   ]
  },
  {
   "cell_type": "markdown",
   "metadata": {},
   "source": [
    "## Problem 2: Choosing our reference genomes\n",
    "\n",
    "**Task:** Identify the three closest relatives to SARS-CoV-2. Use the `global_alignment` function you have just implemented, inspect their alignment scores, and select the three most similar sequences to our spike protein sequence. These will serve as reference genomes in Problem 4 of this assignment and help us determine the function of ORFs.\n",
    "\n",
    "Save the full names of three coronaviruses with the closest matches to SARS-CoV-2's spike protein sequence as a Python list in the `three_closest_references` variable.\n",
    "\n",
    "**[10 points]**"
   ]
  },
  {
   "cell_type": "code",
   "execution_count": 6,
   "metadata": {},
   "outputs": [],
   "source": [
    "three_closest_references = [  # Enter the three most closely-related viruses\n",
    "    \"Bat-CoV RaTG13\",\n",
    "    \"Pangolin-CoV MP789\",\n",
    "    \"Human-SARS\",\n",
    "]"
   ]
  },
  {
   "cell_type": "markdown",
   "metadata": {},
   "source": [
    "## MiniBLAST\n",
    "\n",
    "In the previous homework, your task was to find ORF candidates, which we then classified into transmembrane/non-transmembrane proteins using a naive approach based on hydrophobicity. A far more sophisticated approach for characterizing any genetic sequence is BLAST. BLAST stores a database of annotated genes (usually from various organisms) and then uses local alignment and heuristic search to find database genes with a similar sequence to a query one. Assuming that genes with similar protein sequences perform similar functions, we can infer the function of a query sequence by looking at the function of any matching genes returned by BLAST. It is also possible that BLAST will not find suitable matches, which may signal that a sequence might not be an actual gene or protein. In this problem, we will implement our simplified BLAST version and call it MiniBLAST. We will use MiniBLAST to determine whether each of our candidate ORFs is a gene. And if it is a gene, we will use the annotations to determine what the gene does.\n",
    "\n",
    "Please note that BLAST is a complicated, optimized, heuristic, state-of-the-art technique to obtain very good approximate solutions. BLAST can query thousands of sequences in seconds. Our implementation will be slightly less sophisticated and somewhat more constrained but conceptually similar to that of BLAST.\n",
    "\n",
    "## Problem 3: Local alignment\n",
    "\n",
    "**Task:** Use the template`local_alignment` function in `helper_functions.py` and implement the Smith-Waterman algorithm for local sequence alignment.\n",
    "\n",
    "**[10 points]**"
   ]
  },
  {
   "cell_type": "code",
   "execution_count": 10,
   "metadata": {},
   "outputs": [],
   "source": [
    "from helper_functions import local_alignment"
   ]
  },
  {
   "cell_type": "markdown",
   "metadata": {},
   "source": [
    "## Problem 4: Finding homologous genes\n",
    "\n",
    "For this assignment, we have selected five promising SARS-CoV-2 ORFs we found in our first homework. "
   ]
  },
  {
   "cell_type": "code",
   "execution_count": 18,
   "metadata": {},
   "outputs": [
    {
     "name": "stdout",
     "output_type": "stream",
     "text": [
      "ORF-1\n",
      "Bat-CoV RaTG13 orf1ab polyprotein 2553.0\n",
      "Bat-CoV RaTG13 spike glycoprotein 131.0\n",
      "Bat-CoV RaTG13 nonstructural protein NS3 66.0\n",
      "Bat-CoV RaTG13 envelope protein 39.0\n",
      "Bat-CoV RaTG13 membrane protein 59.0\n",
      "Bat-CoV RaTG13 nonstructural protein NS6 45.0\n",
      "Bat-CoV RaTG13 nonstructural protein NS7a 49.0\n",
      "Bat-CoV RaTG13 nonstructural protein NS7b 24.0\n",
      "Bat-CoV RaTG13 nonstructural protein NS8 55.0\n",
      "Bat-CoV RaTG13 nucleocapsid protein 77.0\n",
      "Pangolin-CoV MP789 orf1ab polyprotein 2553.0\n",
      "Pangolin-CoV MP789 surface glycoprotein 130.0\n",
      "Pangolin-CoV MP789 ORF3 protein 56.0\n",
      "Pangolin-CoV MP789 envelope protein 39.0\n",
      "Pangolin-CoV MP789 membrane glycoprotein 59.0\n",
      "Pangolin-CoV MP789 ORF6 protein 40.0\n",
      "Pangolin-CoV MP789 ORF7a protein 54.0\n",
      "Pangolin-CoV MP789 ORF7b protein 28.0\n",
      "Pangolin-CoV MP789 ORF8 protein 56.0\n",
      "Pangolin-CoV MP789 nucleocapsid phosphoprotein 77.0\n",
      "Pangolin-CoV MP789 ORF10 protein 24.0\n",
      "Human-SARS ORF1ab polyprotein 2485.0\n",
      "Human-SARS ORF1a polyprotein 2515.0\n",
      "Human-SARS spike glycoprotein 122.0\n",
      "Human-SARS ORF3a protein 78.0\n",
      "Human-SARS ORF3b protein 49.0\n",
      "Human-SARS small envelope protein 45.0\n",
      "Human-SARS membrane glycoprotein M 65.0\n",
      "Human-SARS ORF6 protein 38.0\n",
      "Human-SARS ORF7a protein 56.0\n",
      "Human-SARS ORF7b protein 26.0\n",
      "Human-SARS ORF8a protein 29.0\n",
      "Human-SARS ORF8b protein 51.0\n",
      "Human-SARS nucleocapsid protein 80.0\n",
      "Human-SARS ORF9b protein 50.0\n",
      "Human-SARS ORF9a protein 36.0\n",
      "ORF-2\n",
      "Bat-CoV RaTG13 orf1ab polyprotein 73.0\n",
      "Bat-CoV RaTG13 spike glycoprotein 56.0\n",
      "Bat-CoV RaTG13 nonstructural protein NS3 60.0\n",
      "Bat-CoV RaTG13 envelope protein 43.0\n",
      "Bat-CoV RaTG13 membrane protein 678.0\n",
      "Bat-CoV RaTG13 nonstructural protein NS6 35.0\n",
      "Bat-CoV RaTG13 nonstructural protein NS7a 31.0\n",
      "Bat-CoV RaTG13 nonstructural protein NS7b 23.0\n",
      "Bat-CoV RaTG13 nonstructural protein NS8 31.0\n",
      "Bat-CoV RaTG13 nucleocapsid protein 53.0\n",
      "Pangolin-CoV MP789 orf1ab polyprotein 71.0\n",
      "Pangolin-CoV MP789 surface glycoprotein 61.0\n",
      "Pangolin-CoV MP789 ORF3 protein 61.0\n",
      "Pangolin-CoV MP789 envelope protein 43.0\n",
      "Pangolin-CoV MP789 membrane glycoprotein 678.0\n",
      "Pangolin-CoV MP789 ORF6 protein 40.0\n",
      "Pangolin-CoV MP789 ORF7a protein 32.0\n",
      "Pangolin-CoV MP789 ORF7b protein 20.0\n",
      "Pangolin-CoV MP789 ORF8 protein 31.0\n",
      "Pangolin-CoV MP789 nucleocapsid phosphoprotein 59.0\n",
      "Pangolin-CoV MP789 ORF10 protein 24.0\n",
      "Human-SARS ORF1ab polyprotein 69.0\n",
      "Human-SARS ORF1a polyprotein 66.0\n",
      "Human-SARS spike glycoprotein 51.0\n",
      "Human-SARS ORF3a protein 56.0\n",
      "Human-SARS ORF3b protein 42.0\n",
      "Human-SARS small envelope protein 46.0\n",
      "Human-SARS membrane glycoprotein M 625.0\n",
      "Human-SARS ORF6 protein 38.0\n",
      "Human-SARS ORF7a protein 30.0\n",
      "Human-SARS ORF7b protein 23.0\n",
      "Human-SARS ORF8a protein 18.0\n",
      "Human-SARS ORF8b protein 36.0\n",
      "Human-SARS nucleocapsid protein 56.0\n",
      "Human-SARS ORF9b protein 33.0\n",
      "Human-SARS ORF9a protein 31.0\n",
      "ORF-3\n",
      "Bat-CoV RaTG13 orf1ab polyprotein 193.0\n",
      "Bat-CoV RaTG13 spike glycoprotein 2999.0\n",
      "Bat-CoV RaTG13 nonstructural protein NS3 82.0\n",
      "Bat-CoV RaTG13 envelope protein 45.0\n",
      "Bat-CoV RaTG13 membrane protein 61.0\n",
      "Bat-CoV RaTG13 nonstructural protein NS6 44.0\n",
      "Bat-CoV RaTG13 nonstructural protein NS7a 49.0\n",
      "Bat-CoV RaTG13 nonstructural protein NS7b 32.0\n",
      "Bat-CoV RaTG13 nonstructural protein NS8 48.0\n",
      "Bat-CoV RaTG13 nucleocapsid protein 96.0\n",
      "Pangolin-CoV MP789 orf1ab polyprotein 197.0\n",
      "Pangolin-CoV MP789 surface glycoprotein 2979.0\n",
      "Pangolin-CoV MP789 ORF3 protein 82.0\n",
      "Pangolin-CoV MP789 envelope protein 45.0\n",
      "Pangolin-CoV MP789 membrane glycoprotein 63.0\n",
      "Pangolin-CoV MP789 ORF6 protein 50.0\n",
      "Pangolin-CoV MP789 ORF7a protein 50.0\n",
      "Pangolin-CoV MP789 ORF7b protein 29.0\n",
      "Pangolin-CoV MP789 ORF8 protein 53.0\n",
      "Pangolin-CoV MP789 nucleocapsid phosphoprotein 88.0\n",
      "Pangolin-CoV MP789 ORF10 protein 33.0\n",
      "Human-SARS ORF1ab polyprotein 183.0\n",
      "Human-SARS ORF1a polyprotein 183.0\n",
      "Human-SARS spike glycoprotein 2793.0\n",
      "Human-SARS ORF3a protein 87.0\n",
      "Human-SARS ORF3b protein 65.0\n",
      "Human-SARS small envelope protein 45.0\n",
      "Human-SARS membrane glycoprotein M 64.0\n",
      "Human-SARS ORF6 protein 57.0\n",
      "Human-SARS ORF7a protein 43.0\n",
      "Human-SARS ORF7b protein 32.0\n",
      "Human-SARS ORF8a protein 48.0\n",
      "Human-SARS ORF8b protein 38.0\n",
      "Human-SARS nucleocapsid protein 105.0\n",
      "Human-SARS ORF9b protein 54.0\n",
      "Human-SARS ORF9a protein 33.0\n",
      "ORF-4\n",
      "Bat-CoV RaTG13 orf1ab polyprotein 54.0\n",
      "Bat-CoV RaTG13 spike glycoprotein 52.0\n",
      "Bat-CoV RaTG13 nonstructural protein NS3 45.0\n",
      "Bat-CoV RaTG13 envelope protein 36.0\n",
      "Bat-CoV RaTG13 membrane protein 54.0\n",
      "Bat-CoV RaTG13 nonstructural protein NS6 29.0\n",
      "Bat-CoV RaTG13 nonstructural protein NS7a 40.0\n",
      "Bat-CoV RaTG13 nonstructural protein NS7b 33.0\n",
      "Bat-CoV RaTG13 nonstructural protein NS8 41.0\n",
      "Bat-CoV RaTG13 nucleocapsid protein 33.0\n",
      "Pangolin-CoV MP789 orf1ab polyprotein 54.0\n",
      "Pangolin-CoV MP789 surface glycoprotein 47.0\n",
      "Pangolin-CoV MP789 ORF3 protein 44.0\n",
      "Pangolin-CoV MP789 envelope protein 36.0\n",
      "Pangolin-CoV MP789 membrane glycoprotein 54.0\n",
      "Pangolin-CoV MP789 ORF6 protein 27.0\n",
      "Pangolin-CoV MP789 ORF7a protein 37.0\n",
      "Pangolin-CoV MP789 ORF7b protein 34.0\n",
      "Pangolin-CoV MP789 ORF8 protein 39.0\n",
      "Pangolin-CoV MP789 nucleocapsid phosphoprotein 33.0\n",
      "Pangolin-CoV MP789 ORF10 protein 34.0\n",
      "Human-SARS ORF1ab polyprotein 61.0\n",
      "Human-SARS ORF1a polyprotein 61.0\n",
      "Human-SARS spike glycoprotein 59.0\n",
      "Human-SARS ORF3a protein 51.0\n",
      "Human-SARS ORF3b protein 43.0\n",
      "Human-SARS small envelope protein 36.0\n",
      "Human-SARS membrane glycoprotein M 55.0\n",
      "Human-SARS ORF6 protein 25.0\n",
      "Human-SARS ORF7a protein 44.0\n",
      "Human-SARS ORF7b protein 32.0\n",
      "Human-SARS ORF8a protein 28.0\n",
      "Human-SARS ORF8b protein 28.0\n",
      "Human-SARS nucleocapsid protein 32.0\n",
      "Human-SARS ORF9b protein 24.0\n",
      "Human-SARS ORF9a protein 21.0\n",
      "ORF-5\n",
      "Bat-CoV RaTG13 orf1ab polyprotein 7569.0\n",
      "Bat-CoV RaTG13 spike glycoprotein 258.0\n",
      "Bat-CoV RaTG13 nonstructural protein NS3 93.0\n",
      "Bat-CoV RaTG13 envelope protein 45.0\n",
      "Bat-CoV RaTG13 membrane protein 80.0\n",
      "Bat-CoV RaTG13 nonstructural protein NS6 52.0\n",
      "Bat-CoV RaTG13 nonstructural protein NS7a 59.0\n",
      "Bat-CoV RaTG13 nonstructural protein NS7b 44.0\n",
      "Bat-CoV RaTG13 nonstructural protein NS8 67.0\n",
      "Bat-CoV RaTG13 nucleocapsid protein 77.0\n",
      "Pangolin-CoV MP789 orf1ab polyprotein 7567.0\n",
      "Pangolin-CoV MP789 surface glycoprotein 280.0\n",
      "Pangolin-CoV MP789 ORF3 protein 94.0\n",
      "Pangolin-CoV MP789 envelope protein 45.0\n",
      "Pangolin-CoV MP789 membrane glycoprotein 80.0\n",
      "Pangolin-CoV MP789 ORF6 protein 47.0\n",
      "Pangolin-CoV MP789 ORF7a protein 60.0\n",
      "Pangolin-CoV MP789 ORF7b protein 46.0\n",
      "Pangolin-CoV MP789 ORF8 protein 59.0\n",
      "Pangolin-CoV MP789 nucleocapsid phosphoprotein 77.0\n",
      "Pangolin-CoV MP789 ORF10 protein 38.0\n",
      "Human-SARS ORF1ab polyprotein 7151.0\n",
      "Human-SARS ORF1a polyprotein 7181.0\n",
      "Human-SARS spike glycoprotein 295.0\n",
      "Human-SARS ORF3a protein 86.0\n",
      "Human-SARS ORF3b protein 70.0\n",
      "Human-SARS small envelope protein 48.0\n",
      "Human-SARS membrane glycoprotein M 81.0\n",
      "Human-SARS ORF6 protein 42.0\n",
      "Human-SARS ORF7a protein 57.0\n",
      "Human-SARS ORF7b protein 42.0\n",
      "Human-SARS ORF8a protein 29.0\n",
      "Human-SARS ORF8b protein 51.0\n",
      "Human-SARS nucleocapsid protein 80.0\n",
      "Human-SARS ORF9b protein 50.0\n",
      "Human-SARS ORF9a protein 37.0\n"
     ]
    }
   ],
   "source": [
    "orf_candidates = {\n",
    "    \"ORF-1\": (1, 11995, 13483),\n",
    "    \"ORF-2\": (1, 26792, 27191),\n",
    "    \"ORF-3\": (1, 23650, 25384),\n",
    "    \"ORF-4\": (-1, 421, 667),\n",
    "    \"ORF-5\": (1, 9133, 13483),\n",
    "}\n",
    "candidate_seqs={}\n",
    "scores={}\n",
    "for virus in three_closest_references:\n",
    "    record = SeqIO.read('data/'+virus+'.gb', \"genbank\")\n",
    "    for feature in record.features:\n",
    "        if feature.type == 'CDS':\n",
    "            candidate_seqs[virus+' '+str(feature.qualifiers['product'])[2:-2]]=str(feature.qualifiers['translation'])[2:-2]\n",
    "record = SeqIO.read('data/sars_cov_2.fa','fasta')\n",
    "for orf in orf_candidates.keys():\n",
    "    print(orf)\n",
    "    if orf_candidates[orf][0]==-1:\n",
    "        orfn=str(record.seq[orf_candidates[orf][1]+3:orf_candidates[orf][2]].reverse_complement().translate())\n",
    "    else:    \n",
    "        orfn=str(record.seq[orf_candidates[orf][1]:orf_candidates[orf][2]-3].translate())\n",
    "    for seq in candidate_seqs.keys():\n",
    "        alignment1,alignment2,score=local_alignment(orfn,candidate_seqs[seq],scoring_function)\n",
    "        scores[seq]=score/((len(alignment1)+len(alignment2))/2)\n",
    "        print(seq,score)"
   ]
  },
  {
   "cell_type": "markdown",
   "metadata": {},
   "source": [
    "We will now use MiniBLAST to compare these ORFs to known, annotated genes from the three closely-related coronaviruses you have stored in `three_closest_references`. The goal is to find the best matching gene from the reference genomes and decide if the quality of the match is sufficient to claim that ORF is an actual gene. \n",
    "\n",
    "Hint: among the five ORFs included in the candidates, we have planted one that is not a true gene.\n",
    "\n",
    "**Task:** We start by building a reference database. For each of the three closely-related coronaviruses from Problem 2, extract the coding regions (CDS) from each genome, and convert them to protein sequences. Store the name of the virus each protein sequence came from and its function. In our case, the gene's function is evident from its name, e.g., \"spike protein\", \"ORF1ab\", and similar. Given `orf_candidates`, compute the local alignment to each protein sequence in our database. Inspect each alignment and its corresponding score, and decide whether the alignment is sufficiently good to assume they perform the same function.\n",
    "\n",
    "Save your answers into the `orf_matches` variable as indicated in the cell below. Each ORF should be assigned a *closest-organism*, reporting the reference virus with the closest match, and a *homologous-gene*, indicating which gene the ORF matched to. For ORFs with no match in the reference, use None for both fields.\n",
    "\n",
    "**[10 points]**"
   ]
  },
  {
   "cell_type": "code",
   "execution_count": 19,
   "metadata": {},
   "outputs": [],
   "source": [
    "orf_matches = {\n",
    "    \"ORF-1\": {\n",
    "        \"closest-organism\": \"Bat-CoV RaTG13/Pangolin-CoV MP789\", \n",
    "        \"homologous-gene\": \"orf1ab polyprotein\",\n",
    "    },\n",
    "    \"ORF-2\": {\n",
    "        \"closest-organism\": \"Bat-CoV RaTG13/Pangolin-CoV MP789\",\n",
    "        \"homologous-gene\": \"membrane glycoprotein\",\n",
    "    },\n",
    "    \"ORF-3\": {\n",
    "        \"closest-organism\": \"Bat-CoV RaTG13\",\n",
    "        \"homologous-gene\": \"spike glycoprotein\",\n",
    "    },\n",
    "    \"ORF-4\": {\n",
    "        \"closest-organism\": None,\n",
    "        \"homologous-gene\": None,\n",
    "    },\n",
    "    \"ORF-5\": {\n",
    "        \"closest-organism\": \"Bat-CoV RaTG13\",\n",
    "        \"homologous-gene\": \"orf1ab polyprotein\",\n",
    "    },\n",
    "}"
   ]
  },
  {
   "cell_type": "markdown",
   "metadata": {},
   "source": [
    "## Bonus Problem: Repurposing SARS-CoV drug treatments for SARS-CoV-2\n",
    "\n",
    "You might have noticed that the coronavirus we've been working with ends with the number 2. That means there must have been a SARS-CoV-1 at some point, right? Indeed there was. The SARS-CoV-1 virus caused a SARS outbreak in 2002-2004 and infected over 8,000 people from 29 countries, killing at least 774 people. These may seem like small numbers today, but at the time, the outbreak caused much panic because the virus had a much higher mortality rate than SARS-CoV-2. \n",
    "\n",
    "Several drugs were developed and tested for the treatment of SARS. Some proved effective. Since SARS-CoV-2 is closely related to SARS-CoV-1, we could repurpose some effective drugs for SARS-CoV-1. We will look at one drug in particular: EK1 binds to a specific region on the SARS-CoV-1 spike protein and prevents the virus from entering the cells, thus stopping the infection and, consequently, the spread of the virus. Assuming the spike protein in SARS-CoV-2 is similar enough to the spike protein in SARS-CoV-1, EK1 may be able to bind to the SARS-CoV-2 spike protein and subsequently stop the infection.\n",
    "\n",
    "EK1 recognizes a specific sequence (or motif) of aminoacid types: **_hpphcpc_** where **_h_** is a hydrophobic, **_p_** is a polar, and **_c_** is a charged amino acid. There are approximately six consecutive repeats of this motif in SARS-CoV-1, so we expect to find a similar pattern in the SARS-CoV-2 spike protein. The individual amino acid types in this motif are not equally important for the successful binding of EK1. For instance, it is much more important for the **_h_** amino acids to be in the correct spots than the **_p_** or **_c_** amino acids. It is also critical that none of the amino acids are missing in the spike protein, as this will prevent binding.\n",
    "\n",
    "Aminoacids and their corresponding types (**_h_**, **_p_**, or **_c_**) are provided in `data/aminoacid_properties.csv`.\n",
    "\n",
    "**Task:** Determine whether EK1 can bind to the SARS-CoV-2 spike protein. Based on the description of how EK1 binds to the spike protein in the paragraphs above, design a scoring function that will appropriately weigh amino acid matches/mismatches. Then, perform local alignment between the SARS-CoV-1 spike protein sequence and the EK1 target motif (**_hpphcpc_** repeated six times). Since EK1 was developed for SARS-CoV-1, we know there should be a valid binding motif somewhere along the SARS-CoV-1 spike protein. Use this fact to calibrate your scoring function. Can we find an EK1 binding motif in the SARS-CoV-2 spike protein? Plot the positions of the best alignments in both viruses. For each virus, plot a horizontal line representing the spike protein sequence and a bar indicating the location of the EK1 binding motif. Ensure the two genomes are aligned to see whether the binding motifs appear in the same general regions of the spike protein. Save your figure into `problem5.png`.\n",
    "\n",
    "Does SARS-CoV-2 contain the EK1 binding motif? Are SARS-CoV-1 and SARS-CoV-2 motifs comparable? Briefly write your comments in the `drug_comments` variable and use at most three sentences.\n",
    "\n",
    "*Hint*: Our task is to design a scoring function that reflects the underlying process of binding EK1 to the spike protein. For instance, since no amino acids must be missing from the spike protein sequence, we can design our scoring function to disallow any indels in our alignment. We can achieve this by heavily penalizing indels. Similarly, if we know hydrophobic matches are more important than polar or charged matches, we can appropriately weigh matches and penalize mismatches between these types of proteins.\n",
    "\n",
    "**[10 points]**"
   ]
  },
  {
   "cell_type": "code",
   "execution_count": 8,
   "metadata": {},
   "outputs": [],
   "source": [
    "import matplotlib.pyplot as plt\n",
    "from helper_functions import global_alignment\n",
    "\n",
    "def motif_scoring(prot1,prot2):\n",
    "    acidtype={}\n",
    "    with open (r'data/aminoacid_properties.csv') as f:\n",
    "        for line in f:\n",
    "            line=line.strip('\\n').split(',')\n",
    "            if len(line[0])>1:\n",
    "                pass\n",
    "            else:\n",
    "                acidtype[line[0]]=line[2]\n",
    "    if prot1=='*' or prot2=='*':\n",
    "        score=-6\n",
    "    else:\n",
    "        x=acidtype[prot1]\n",
    "        y=acidtype[prot2]\n",
    "        if x=='h'and y=='h':\n",
    "            score=5\n",
    "        elif x==y:\n",
    "            score=2\n",
    "        else:\n",
    "            score=-2\n",
    "    return score"
   ]
  },
  {
   "cell_type": "code",
   "execution_count": 13,
   "metadata": {},
   "outputs": [
    {
     "name": "stdout",
     "output_type": "stream",
     "text": [
      "GSCHWLLMLTHLQNILIRSMLMSFTCIYNTLESYMMSL\n",
      "GSSVELKHFFFAQDGNAAISDYDYYRYNLPTM-CDIRQL\n",
      "5314\n"
     ]
    },
    {
     "ename": "TypeError",
     "evalue": "object of type 'int' has no len()",
     "output_type": "error",
     "traceback": [
      "\u001b[1;31m---------------------------------------------------------------------------\u001b[0m",
      "\u001b[1;31mTypeError\u001b[0m                                 Traceback (most recent call last)",
      "Cell \u001b[1;32mIn[13], line 21\u001b[0m\n\u001b[0;32m     19\u001b[0m subsequence_start \u001b[38;5;241m=\u001b[39m \u001b[38;5;241m2\u001b[39m\n\u001b[0;32m     20\u001b[0m subsequence_end \u001b[38;5;241m=\u001b[39m \u001b[38;5;241m6\u001b[39m\n\u001b[1;32m---> 21\u001b[0m plt\u001b[38;5;241m.\u001b[39mhlines(y\u001b[38;5;241m=\u001b[39m\u001b[38;5;241m0\u001b[39m, xmin\u001b[38;5;241m=\u001b[39m\u001b[38;5;241m0\u001b[39m, xmax\u001b[38;5;241m=\u001b[39m\u001b[38;5;28;43mlen\u001b[39;49m\u001b[43m(\u001b[49m\u001b[43msequence\u001b[49m\u001b[43m)\u001b[49m, color\u001b[38;5;241m=\u001b[39m\u001b[38;5;124m'\u001b[39m\u001b[38;5;124mblue\u001b[39m\u001b[38;5;124m'\u001b[39m, linewidth\u001b[38;5;241m=\u001b[39m\u001b[38;5;241m2\u001b[39m)\n\u001b[0;32m     22\u001b[0m plt\u001b[38;5;241m.\u001b[39mhlines(y\u001b[38;5;241m=\u001b[39m\u001b[38;5;241m0.01\u001b[39m, xmin\u001b[38;5;241m=\u001b[39m\u001b[38;5;241m0\u001b[39m, xmax\u001b[38;5;241m=\u001b[39m\u001b[38;5;28mlen\u001b[39m(sequence), color\u001b[38;5;241m=\u001b[39m\u001b[38;5;124m'\u001b[39m\u001b[38;5;124morange\u001b[39m\u001b[38;5;124m'\u001b[39m, linewidth\u001b[38;5;241m=\u001b[39m\u001b[38;5;241m2\u001b[39m)\n\u001b[0;32m     23\u001b[0m plt\u001b[38;5;241m.\u001b[39mbarh(y\u001b[38;5;241m=\u001b[39m\u001b[38;5;241m0\u001b[39m, width\u001b[38;5;241m=\u001b[39msubsequence_end \u001b[38;5;241m-\u001b[39m subsequence_start, left\u001b[38;5;241m=\u001b[39msubsequence_start, color\u001b[38;5;241m=\u001b[39m\u001b[38;5;124m'\u001b[39m\u001b[38;5;124mgreen\u001b[39m\u001b[38;5;124m'\u001b[39m,linewidth\u001b[38;5;241m=\u001b[39m\u001b[38;5;241m2\u001b[39m, label\u001b[38;5;241m=\u001b[39m\u001b[38;5;124m'\u001b[39m\u001b[38;5;124mEK1 motif\u001b[39m\u001b[38;5;124m'\u001b[39m)\n",
      "\u001b[1;31mTypeError\u001b[0m: object of type 'int' has no len()"
     ]
    }
   ],
   "source": [
    "seq1=SeqIO.read('data/Human-SARS.gb', \"genbank\").seq.translate()\n",
    "align11, align21, score=local_alignment(seq1,'ANNARSR'*6,motif_scoring)\n",
    "print(align11)\n",
    "acidtype={}\n",
    "with open (r'data/aminoacid_properties.csv') as f:\n",
    "    for line in f:\n",
    "        line=line.strip('\\n').split(',')\n",
    "        if len(line[0])>1:\n",
    "            pass\n",
    "        else:\n",
    "            acidtype[line[0]]=line[2]\n",
    "\n",
    "seq2 = SeqIO.read('data/sars_cov_2.fa','fasta').seq.translate()\n",
    "align21, align22, score=local_alignment(seq2,'ANNARSR'*6,motif_scoring)\n",
    "print(align21)\n",
    "index1 = seq1.find(align11)\n",
    "print(index1)\n"
   ]
  },
  {
   "cell_type": "code",
   "execution_count": 21,
   "metadata": {},
   "outputs": [
    {
     "data": {
      "image/png": "[encoded data removed]",
      "text/plain": [
       "<Figure size 640x480 with 1 Axes>"
      ]
     },
     "metadata": {},
     "output_type": "display_data"
    }
   ],
   "source": [
    "sequence = list(range(len(seq1)))\n",
    "subsequence_start = index1\n",
    "subsequence_end = len(align21)+index1\n",
    "plt.hlines(y=0, xmin=0, xmax=len(seq1), color='blue', linewidth=2)\n",
    "plt.hlines(y=0.03, xmin=0, xmax=len(seq2), color='orange', linewidth=2)\n",
    "plt.barh(y=0, width=subsequence_end - subsequence_start, left=subsequence_start, color='green',linewidth=2, label='EK1 motif')\n",
    "\n",
    "\n",
    "plt.yticks([])  \n",
    "plt.legend()\n",
    "\n",
    "plt.savefig('problem5.png')\n",
    "plt.show()"
   ]
  },
  {
   "cell_type": "code",
   "execution_count": null,
   "metadata": {},
   "outputs": [],
   "source": [
    "drug_comments = \"\"\"The motif appears to have been duplicated in SARS-Cov2, as the alignment in that case is considerably longer than with the original virus.\n",
    "\"\"\""
   ]
  }
 ],
 "metadata": {
  "kernelspec": {
   "display_name": "Python 3 (ipykernel)",
   "language": "python",
   "name": "python3"
  },
  "language_info": {
   "codemirror_mode": {
    "name": "ipython",
    "version": 3
   },
   "file_extension": ".py",
   "mimetype": "text/x-python",
   "name": "python",
   "nbconvert_exporter": "python",
   "pygments_lexer": "ipython3",
   "version": "3.12.0"
  }
 },
 "nbformat": 4,
 "nbformat_minor": 4
}
